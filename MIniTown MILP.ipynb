{
 "cells": [
  {
   "cell_type": "code",
   "execution_count": 1,
   "metadata": {},
   "outputs": [
    {
     "name": "stdout",
     "output_type": "stream",
     "text": [
      "Academic license - for non-commercial use only - expires 2022-09-04\n",
      "Using license file C:\\Users\\Juan\\gurobi.lic\n",
      "Gurobi Optimizer version 9.1.2 build v9.1.2rc0 (win64)\n",
      "Thread count: 2 physical cores, 4 logical processors, using up to 4 threads\n",
      "Optimize a model with 4 rows, 4 columns and 4 nonzeros\n",
      "Model fingerprint: 0x554c9bba\n",
      "Variable types: 2 continuous, 2 integer (2 binary)\n",
      "Coefficient statistics:\n",
      "  Matrix range     [1e+00, 1e+00]\n",
      "  Objective range  [6e-01, 1e+02]\n",
      "  Bounds range     [1e+00, 1e+00]\n",
      "  RHS range        [7e+01, 3e+02]\n",
      "Presolve removed 4 rows and 4 columns\n",
      "Presolve time: 0.00s\n",
      "Presolve: All rows and columns removed\n",
      "\n",
      "Explored 0 nodes (0 simplex iterations) in 0.06 seconds\n",
      "Thread count was 1 (of 4 available processors)\n",
      "\n",
      "Solution count 1: 176.843 \n",
      "\n",
      "Optimal solution found (tolerance 1.00e-04)\n",
      "Best objective 1.768432000000e+02, best bound 1.768432000000e+02, gap 0.0000%\n",
      "P1 1\n",
      "P2 1\n",
      "Tank Head 72\n",
      "Demand Flow 0\n",
      "Obj: 176.843\n"
     ]
    }
   ],
   "source": [
    "# imports\n",
    "import gurobipy as gp\n",
    "from gurobipy import GRB\n",
    "\n",
    "# Trained Neural Network Parameters\n",
    "weights = [116.9713,73.5509,-0.5783,-0.9270]\n",
    "bias = 27.9586\n",
    "\n",
    "# Initialize gurobi model\n",
    "s = gp.Model(\"MiniTown Net\")    # Create model\n",
    "\n",
    "# Define gurobi variables\n",
    "# binary variables are {0,1}, pumps can be only either on or off\n",
    "p1 = s.addVar(vtype=GRB.BINARY,name=\"P1\")\n",
    "p2 = s.addVar(vtype=GRB.BINARY,name=\"P2\")\n",
    "tH = s.addVar(vtype=GRB.CONTINUOUS,name=\"Tank Head\")\n",
    "dem = s.addVar(vtype=GRB.CONTINUOUS,name=\"Demand Flow\")\n",
    "\n",
    "\n",
    "# Our objective function is the result of the single matrix multiply + bias\n",
    "# we can either maximize or minimize depending on what we want to check\n",
    "\n",
    "s.setObjective(p1*weights[0] + p2*weights[1] + tH*weights[2] + dem*weights[3] + bias, GRB.MAXIMIZE)\n",
    "\n",
    "# tank head is constrained to physical values ( can't go below zero, above max height)\n",
    "s.addConstr( tH <= 78, name='max tank head')\n",
    "s.addConstr( tH >= 72, name='min tank head')\n",
    "\n",
    "# Demand can either be 0 or up to max 250 LPS\n",
    "s.addConstr( dem <= 250, name='max demand')\n",
    "s.addConstr( dem >= 0, name='min demand')\n",
    "\n",
    "s.optimize();   #solve\n",
    "for v in s.getVars():\n",
    "        print('%s %g' % (v.varName, v.x))\n",
    "\n",
    "print('Obj: %g' % s.objVal)\n"
   ]
  },
  {
   "cell_type": "code",
   "execution_count": 2,
   "metadata": {},
   "outputs": [
    {
     "name": "stdout",
     "output_type": "stream",
     "text": [
      "Gurobi Optimizer version 9.1.2 build v9.1.2rc0 (win64)\n",
      "Thread count: 2 physical cores, 4 logical processors, using up to 4 threads\n",
      "Optimize a model with 4 rows, 4 columns and 4 nonzeros\n",
      "Model fingerprint: 0x15591bb9\n",
      "Variable types: 2 continuous, 2 integer (2 binary)\n",
      "Coefficient statistics:\n",
      "  Matrix range     [1e+00, 1e+00]\n",
      "  Objective range  [6e-01, 1e+02]\n",
      "  Bounds range     [1e+00, 1e+00]\n",
      "  RHS range        [7e+01, 3e+02]\n",
      "Presolve removed 4 rows and 4 columns\n",
      "Presolve time: 0.00s\n",
      "Presolve: All rows and columns removed\n",
      "\n",
      "Explored 0 nodes (0 simplex iterations) in 0.07 seconds\n",
      "Thread count was 1 (of 4 available processors)\n",
      "\n",
      "Solution count 1: -248.899 \n",
      "No other solutions better than -248.899\n",
      "\n",
      "Optimal solution found (tolerance 1.00e-04)\n",
      "Best objective -2.488988000000e+02, best bound -2.488988000000e+02, gap 0.0000%\n",
      "P1 0\n",
      "P2 0\n",
      "Tank Head 78\n",
      "Demand Flow 250\n",
      "Obj: -248.899\n"
     ]
    }
   ],
   "source": [
    "# can check minimize too\n",
    "\n",
    "s = gp.Model(\"MiniTown Net\")    # Create model\n",
    "\n",
    "p1 = s.addVar(vtype=GRB.BINARY,name=\"P1\")\n",
    "p2 = s.addVar(vtype=GRB.BINARY,name=\"P2\")\n",
    "tH = s.addVar(vtype=GRB.CONTINUOUS,name=\"Tank Head\")\n",
    "dem = s.addVar(vtype=GRB.CONTINUOUS,name=\"Demand Flow\")\n",
    "\n",
    "s.setObjective(p1*weights[0] + p2*weights[1] + tH*weights[2] + dem*weights[3] + bias, GRB.MINIMIZE)\n",
    "\n",
    "s.addConstr( tH <= 78, name='max tank head')\n",
    "s.addConstr( tH >= 72, name='min tank head')\n",
    "\n",
    "s.addConstr( dem <= 250, name='max demand')\n",
    "s.addConstr( dem >= 0, name='min demand')\n",
    "\n",
    "s.optimize();   #solve\n",
    "for v in s.getVars():\n",
    "        print('%s %g' % (v.varName, v.x))\n",
    "\n",
    "print('Obj: %g' % s.objVal)\n"
   ]
  },
  {
   "cell_type": "code",
   "execution_count": null,
   "metadata": {},
   "outputs": [],
   "source": []
  }
 ],
 "metadata": {
  "kernelspec": {
   "display_name": "Python 3",
   "language": "python",
   "name": "python3"
  },
  "language_info": {
   "codemirror_mode": {
    "name": "ipython",
    "version": 3
   },
   "file_extension": ".py",
   "mimetype": "text/x-python",
   "name": "python",
   "nbconvert_exporter": "python",
   "pygments_lexer": "ipython3",
   "version": "3.7.4"
  }
 },
 "nbformat": 4,
 "nbformat_minor": 2
}
